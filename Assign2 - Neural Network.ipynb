{
 "cells": [
  {
   "cell_type": "markdown",
   "metadata": {},
   "source": [
    "Write a single layer neural network program with four input variables and three output variables. Generate your test data (meaningfully) using a simple algorithm, and then test it out on neural network. There must be at least 100 test data for training."
   ]
  },
  {
   "cell_type": "code",
   "execution_count": 1,
   "metadata": {},
   "outputs": [],
   "source": [
    "import random\n",
    "\n",
    "input1=[]\n",
    "input2=[]\n",
    "input3=[]\n",
    "input4=[]\n",
    "for i in range(100):\n",
    "    input1.append(random.randint(1,10)%2)\n",
    "    input2.append(random.randint(1,10)%2)\n",
    "    input3.append(random.randint(1,10)%2)\n",
    "    input4.append(random.randint(1,10)%2)"
   ]
  },
  {
   "cell_type": "code",
   "execution_count": 2,
   "metadata": {},
   "outputs": [],
   "source": [
    "output1=[]\n",
    "output2=[]\n",
    "output3=[]\n",
    "\n",
    "for i in range(len(input1)):\n",
    "    output1.append((input1[i] & input2[i]) & (input3[i] | input4[i]))\n",
    "    output2.append((input1[i] | input2[i]) & (input3[i] | input4[i]))\n",
    "    output3.append((input1[i] & input2[i]) | (input3[i] & input4[i]))"
   ]
  },
  {
   "cell_type": "markdown",
   "metadata": {},
   "source": [
    "I am taking 4 node in hidden layer and building a fully connected layer neural network. Since, input layer has 4 nodes, hidden layer has 4 nodes, so number of edges are 16, hence weight parameters are 16 between input and hidden layer. Similarly edges between hidden and output layer will be 12 edeges. So total weight paramters are 28.\n",
    "\n",
    "At hidden layer\n",
    "\n",
    "hidden1= ActivatiovnFunction($Input1 \\times $W1 + $Input2 \\times $W2 + $Input3 \\times $W3 + $Input4 \\times $W4)\n",
    "\n",
    "hidden2= ActivatiovnFunction($Input1 \\times $W5 + $Input2 \\times $W6 + $Input3 \\times$ W7 + $Input4 \\times $W8)\n",
    "\n",
    "hidden3= ActivatiovnFunction($Input1 \\times $W9 + $Input2 \\times $W10 + $Input3 \\times $W11 + $Input4 \\times $W12)\n",
    "\n",
    "hidden4= ActivatiovnFunction($Input1 \\times $W13 + $Input2 \\times $W14 + $Input3 \\times $W15 + $Input4 \\times $W16)\n"
   ]
  },
  {
   "cell_type": "code",
   "execution_count": 3,
   "metadata": {},
   "outputs": [],
   "source": [
    "#generating weight parameters\n",
    "weight=[]\n",
    "for i in range(28):\n",
    "    #weight.append(random.random())\n",
    "    weight.append(random.uniform(-1,1))"
   ]
  },
  {
   "cell_type": "code",
   "execution_count": 4,
   "metadata": {},
   "outputs": [
    {
     "data": {
      "text/plain": [
       "[0.8484045468234696,\n",
       " 0.028644957873029897,\n",
       " 0.8679937529518502,\n",
       " 0.924213708000676,\n",
       " 0.9324048150633806,\n",
       " 0.04425908782594146,\n",
       " 0.7714207383633764,\n",
       " 0.5544126646043375,\n",
       " -0.22912290526742884,\n",
       " -0.9222469789765984,\n",
       " 0.614375674824059,\n",
       " -0.9338734471244827,\n",
       " 0.18141393409331985,\n",
       " 0.8922236299170583,\n",
       " -0.048823488968595674,\n",
       " -0.9310526376658146,\n",
       " 0.07909713363045512,\n",
       " 0.4489248962190391,\n",
       " -0.5051519915330742,\n",
       " 0.39701897231458383,\n",
       " -0.24802488785431898,\n",
       " 0.8322249946112943,\n",
       " 0.5830333141155499,\n",
       " -0.39459780576444636,\n",
       " -0.4103400070783876,\n",
       " -0.6452532101657795,\n",
       " 0.03147783400979476,\n",
       " 0.1827688070667084]"
      ]
     },
     "execution_count": 4,
     "metadata": {},
     "output_type": "execute_result"
    }
   ],
   "source": [
    "weight"
   ]
  },
  {
   "cell_type": "code",
   "execution_count": 5,
   "metadata": {},
   "outputs": [],
   "source": [
    "#Activation function\n",
    "def act_fun(x):\n",
    "    return(1/(1 + 2.71**(-x)))"
   ]
  },
  {
   "cell_type": "code",
   "execution_count": 6,
   "metadata": {},
   "outputs": [],
   "source": [
    "def thresh_fun(x):\n",
    "    if x<1:\n",
    "        return(0)\n",
    "    else:\n",
    "        return(1)"
   ]
  },
  {
   "cell_type": "code",
   "execution_count": 7,
   "metadata": {},
   "outputs": [
    {
     "data": {
      "text/plain": [
       "0.2695417789757412"
      ]
     },
     "execution_count": 7,
     "metadata": {},
     "output_type": "execute_result"
    }
   ],
   "source": [
    "act_fun(-1)"
   ]
  },
  {
   "cell_type": "code",
   "execution_count": 8,
   "metadata": {},
   "outputs": [
    {
     "data": {
      "text/plain": [
       "0"
      ]
     },
     "execution_count": 8,
     "metadata": {},
     "output_type": "execute_result"
    }
   ],
   "source": [
    "thresh_fun(.2695417789757412)"
   ]
  },
  {
   "cell_type": "code",
   "execution_count": 9,
   "metadata": {},
   "outputs": [
    {
     "name": "stdout",
     "output_type": "stream",
     "text": [
      "Actual 000 Predicted 000\n",
      "Actual 010 Predicted 000\n",
      "Actual 011 Predicted 000\n",
      "Actual 010 Predicted 000\n",
      "Actual 111 Predicted 000\n",
      "Actual 010 Predicted 000\n",
      "Actual 111 Predicted 000\n",
      "Actual 000 Predicted 000\n",
      "Actual 010 Predicted 000\n",
      "Actual 000 Predicted 000\n",
      "Actual 000 Predicted 000\n",
      "Actual 011 Predicted 000\n",
      "Actual 011 Predicted 000\n",
      "Actual 011 Predicted 000\n",
      "Actual 111 Predicted 000\n",
      "Actual 011 Predicted 010\n",
      "Actual 000 Predicted 000\n",
      "Actual 000 Predicted 000\n",
      "Actual 001 Predicted 010\n",
      "Actual 001 Predicted 000\n",
      "Actual 000 Predicted 010\n",
      "Actual 010 Predicted 010\n",
      "Actual 000 Predicted 000\n",
      "Actual 000 Predicted 010\n",
      "Actual 011 Predicted 000\n",
      "Actual 000 Predicted 010\n",
      "Actual 111 Predicted 100\n",
      "Actual 011 Predicted 100\n",
      "Actual 010 Predicted 000\n",
      "Actual 111 Predicted 110\n",
      "Actual 011 Predicted 110\n",
      "Actual 111 Predicted 110\n",
      "Actual 010 Predicted 110\n",
      "Actual 000 Predicted 010\n",
      "Actual 010 Predicted 100\n",
      "Actual 001 Predicted 010\n",
      "Actual 111 Predicted 110\n",
      "Actual 011 Predicted 110\n",
      "Actual 000 Predicted 010\n",
      "Actual 001 Predicted 010\n",
      "Actual 010 Predicted 010\n",
      "Actual 001 Predicted 010\n",
      "Actual 000 Predicted 000\n",
      "Actual 000 Predicted 010\n",
      "Actual 011 Predicted 110\n",
      "Actual 000 Predicted 000\n",
      "Actual 011 Predicted 010\n",
      "Actual 111 Predicted 110\n",
      "Actual 010 Predicted 110\n",
      "Actual 000 Predicted 000\n",
      "Actual 011 Predicted 110\n",
      "Actual 000 Predicted 010\n",
      "Actual 000 Predicted 000\n",
      "Actual 001 Predicted 100\n",
      "Actual 011 Predicted 110\n",
      "Actual 111 Predicted 110\n",
      "Actual 000 Predicted 000\n",
      "Actual 111 Predicted 100\n",
      "Actual 111 Predicted 110\n",
      "Actual 000 Predicted 010\n",
      "Actual 010 Predicted 110\n",
      "Actual 111 Predicted 110\n",
      "Actual 111 Predicted 110\n",
      "Actual 000 Predicted 010\n",
      "Actual 010 Predicted 110\n",
      "Actual 000 Predicted 010\n",
      "Actual 000 Predicted 010\n",
      "Actual 010 Predicted 110\n",
      "Actual 000 Predicted 000\n",
      "Actual 011 Predicted 110\n",
      "Actual 011 Predicted 010\n",
      "Actual 001 Predicted 010\n",
      "Actual 000 Predicted 010\n",
      "Actual 000 Predicted 000\n",
      "Actual 111 Predicted 100\n",
      "Actual 000 Predicted 000\n",
      "Actual 011 Predicted 110\n",
      "Actual 010 Predicted 100\n",
      "Actual 000 Predicted 010\n",
      "Actual 111 Predicted 110\n",
      "Actual 010 Predicted 100\n",
      "Actual 010 Predicted 110\n",
      "Actual 111 Predicted 110\n",
      "Actual 010 Predicted 110\n",
      "Actual 001 Predicted 100\n",
      "Actual 010 Predicted 010\n",
      "Actual 010 Predicted 110\n",
      "Actual 111 Predicted 100\n",
      "Actual 000 Predicted 000\n",
      "Actual 111 Predicted 110\n",
      "Actual 001 Predicted 010\n",
      "Actual 111 Predicted 110\n",
      "Actual 000 Predicted 000\n",
      "Actual 000 Predicted 000\n",
      "Actual 000 Predicted 000\n",
      "Actual 000 Predicted 000\n",
      "Actual 111 Predicted 110\n",
      "Actual 001 Predicted 110\n",
      "Actual 001 Predicted 110\n",
      "Actual 010 Predicted 110\n"
     ]
    }
   ],
   "source": [
    "for i in range(len(input1)):\n",
    "    #Hidden Layer \n",
    "    \n",
    "    hidden1=input1[i]*weight[0] + input2[i]*weight[1] + input3[i]*weight[2] + input4[i]*weight[3]\n",
    "    hid1=act_fun(hidden1)\n",
    "        \n",
    "    hidden2=input1[i]*weight[4] + input2[i]*weight[5] + input3[i]*weight[6] + input4[i]*weight[7]\n",
    "    hid2=act_fun(hidden2)\n",
    "        \n",
    "    hidden3=input1[i]*weight[8] + input2[i]*weight[9] + input3[i]*weight[10] + input4[i]*weight[11]\n",
    "    hid3=act_fun(hidden3)\n",
    "        \n",
    "    hidden4=input1[i]*weight[12] + input2[i]*weight[13] + input3[i]*weight[14] + input4[i]*weight[15]\n",
    "    hid4=act_fun(hidden4)\n",
    "    \n",
    "    #Output layer\n",
    "\n",
    "\n",
    "    out1=hid1*weight[16] + hid2*weight[17] + hid3*weight[18] + hid4*weight[19]\n",
    "    p_out1=thresh_fun(out1)\n",
    "       \n",
    "    out2=hid1*weight[20] + hid2*weight[21] + hid3*weight[22] + hid4*weight[23]\n",
    "    p_out2=thresh_fun(out2)\n",
    "        \n",
    "    out3=hid1*weight[24] + hid2*weight[25] + hid3*weight[26] + hid4*weight[27]\n",
    "    p_out3=thresh_fun(out3)\n",
    "    \n",
    "    print('Actual ' + str(output1[i]) + str(output2[i])+ str(output3[i]) + ' Predicted ' + str(p_out1) + str(p_out2) + str(p_out3))\n",
    "        \n",
    "\n",
    "\n",
    "    #Error checking from actual with predicted\n",
    "    error1=output1[i]-p_out1\n",
    "    error2=output2[i]-p_out2\n",
    "    error3=output3[i]-p_out3\n",
    "    total_error=error1 + error2 + error3\n",
    "\n",
    "    \n",
    "    #Weight Adjustment\n",
    "    learning_rate=0.01\n",
    "    \n",
    "    weight[0]=weight[0] + learning_rate * total_error * input1[i]\n",
    "    weight[1]=weight[1] + learning_rate * total_error * input2[i]\n",
    "    weight[2]=weight[2] + learning_rate * total_error * input3[i]\n",
    "    weight[3]=weight[3] + learning_rate * total_error * input4[i]\n",
    "    \n",
    "    weight[4]=weight[4] + learning_rate * total_error * input1[i]\n",
    "    weight[5]=weight[5] + learning_rate * total_error * input2[i]\n",
    "    weight[6]=weight[6] + learning_rate * total_error * input3[i]\n",
    "    weight[7]=weight[7] + learning_rate * total_error * input4[i]\n",
    "    \n",
    "    weight[8]=weight[8] + learning_rate * total_error * input1[i]\n",
    "    weight[9]=weight[9] + learning_rate * total_error * input2[i]\n",
    "    weight[10]=weight[10] + learning_rate * total_error * input3[i]\n",
    "    weight[11]=weight[11] + learning_rate * total_error * input4[i]\n",
    "    \n",
    "    weight[12]=weight[12] + learning_rate * total_error * input1[i]\n",
    "    weight[13]=weight[13] + learning_rate * total_error * input2[i]\n",
    "    weight[14]=weight[14] + learning_rate * total_error * input3[i]\n",
    "    weight[15]=weight[15] + learning_rate * total_error * input4[i]\n",
    "    \n",
    "    weight[16]=weight[16] + learning_rate * total_error * hid1\n",
    "    weight[17]=weight[17] + learning_rate * total_error * hid2\n",
    "    weight[18]=weight[18] + learning_rate * total_error * hid3\n",
    "    weight[19]=weight[19] + learning_rate * total_error * hid4\n",
    "    \n",
    "    weight[20]=weight[20] + learning_rate * total_error * hid1\n",
    "    weight[21]=weight[21] + learning_rate * total_error * hid2\n",
    "    weight[22]=weight[22] + learning_rate * total_error * hid3\n",
    "    weight[23]=weight[23] + learning_rate * total_error * hid4\n",
    "    \n",
    "    weight[24]=weight[24] + learning_rate * total_error * hid1\n",
    "    weight[25]=weight[25] + learning_rate * total_error * hid2\n",
    "    weight[26]=weight[26] + learning_rate * total_error * hid3\n",
    "    weight[27]=weight[27] + learning_rate * total_error * hid4\n",
    "\n",
    "        "
   ]
  }
 ],
 "metadata": {
  "kernelspec": {
   "display_name": "Python 3",
   "language": "python",
   "name": "python3"
  },
  "language_info": {
   "codemirror_mode": {
    "name": "ipython",
    "version": 3
   },
   "file_extension": ".py",
   "mimetype": "text/x-python",
   "name": "python",
   "nbconvert_exporter": "python",
   "pygments_lexer": "ipython3",
   "version": "3.7.3"
  }
 },
 "nbformat": 4,
 "nbformat_minor": 2
}
